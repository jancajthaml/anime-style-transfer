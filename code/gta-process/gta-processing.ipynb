{
 "cells": [
  {
   "cell_type": "code",
   "execution_count": 1,
   "metadata": {
    "button": false,
    "new_sheet": false,
    "run_control": {
     "read_only": false
    }
   },
   "outputs": [],
   "source": [
    "import numpy as np\n",
    "import json\n",
    "from datetime import *\n",
    "from PIL import Image\n",
    "import os\n",
    "import os.path as osp\n",
    "import zipfile as zf\n",
    "import io\n",
    "import multiprocessing\n",
    "\n",
    "DATA_DIR = osp.abspath('../../data/gta-data/dataset')\n",
    "PCL_DIR = osp.abspath('../../data/gta-data/pcl')\n",
    "BBOX = (50, 50, 50)\n",
    "CAMERAS = np.array([[0, -0.4, 2, 1], [0 , -0.8, 0.6, 1], [0, -0.6, 2, 1], [0, -0.8, 0.6, 1]])\n",
    "DATA_SIZE = -1\n",
    "THREADS = 4"
   ]
  },
  {
   "cell_type": "code",
   "execution_count": 2,
   "metadata": {
    "button": false,
    "new_sheet": false,
    "run_control": {
     "read_only": false
    }
   },
   "outputs": [
    {
     "name": "stdout",
     "output_type": "stream",
     "text": [
      "89196\n"
     ]
    }
   ],
   "source": [
    "ALL_FILES = [osp.join(DATA_DIR, f) for f in os.listdir(DATA_DIR)]\n",
    "JSONS = sorted([f for f in ALL_FILES if f.endswith('.json')])\n",
    "DEPTHS = sorted([f for f in ALL_FILES if '-depth' in f])\n",
    "\n",
    "assert len(DEPTHS) == len(JSONS)\n",
    "\n",
    "if DATA_SIZE is not -1:\n",
    "    DEPTHS = DEPTHS[:DATA_SIZE]\n",
    "    JSONS = JSONS[:DATA_SIZE]"
   ]
  },
  {
   "cell_type": "code",
   "execution_count": null,
   "metadata": {
    "button": false,
    "new_sheet": false,
    "run_control": {
     "read_only": false
    }
   },
   "outputs": [],
   "source": [
    "def depth_to_pcl(depth, proj_matrix, view_matrix, bbox):\n",
    "    height, width = depth.shape\n",
    "    y, x = np.where(depth > 0.0)\n",
    "    y_data = (-2 / height) * y + 1\n",
    "    x_data = (2 / width) * x - 1\n",
    "    points = np.ones((4, len(y)))\n",
    "    points[0,:] = y_data\n",
    "    points[1,:] = x_data\n",
    "    points[2,:] = depth[y, x]\n",
    "    \n",
    "    ego_points = np.linalg.inv(proj_matrix) @ points\n",
    "    ego_points /= ego_points[3,:]\n",
    "    \n",
    "    ego_points = ego_points[:,(np.abs(ego_points[0,:]) < bbox[0]) & (np.abs(ego_points[1,:]) < bbox[1]) & (np.abs(ego_points[2,:]) < bbox[2])]\n",
    "    \n",
    "    world_points = np.linalg.inv(view_matrix) @ ego_points\n",
    "    world_points /= world_points[3,:]\n",
    "    \n",
    "    return world_points[:3,:].astype(np.float32)"
   ]
  },
  {
   "cell_type": "code",
   "execution_count": null,
   "metadata": {
    "button": false,
    "new_sheet": false,
    "run_control": {
     "read_only": false
    }
   },
   "outputs": [],
   "source": [
    "def process(i, depth_im, json_file):\n",
    "    global BBOX, CAMERAS, PCL_DIR\n",
    "    with open(json_file, mode='r') as f:\n",
    "        json_data = json.load(f)\n",
    "    del json_data['entities']\n",
    "    del json_data['height']\n",
    "    del json_data['width']\n",
    "    del json_data['timestamp']\n",
    "    del json_data['camera_fov']\n",
    "    del json_data['snapshot_id']\n",
    "    depth_int = np.array(Image.open(depth_im), dtype=np.uint16)\n",
    "    depth_real = np.array(depth_int/np.iinfo(np.uint16).max, dtype=np.float32)\n",
    "    proj_matrix = np.array(json_data['proj_matrix'])\n",
    "    view_matrix = np.array(json_data['view_matrix'])\n",
    "    world = depth_to_pcl(depth_real, proj_matrix, view_matrix, BBOX)\n",
    "    car_center = ((np.linalg.inv(view_matrix) @ CAMERAS[i % 4,:]).T)[:3].tolist()\n",
    "    tmp_meta = {'timestamp': datetime.strptime(json_data['imagepath'], '%Y-%m-%d--%H-%M-%S--%f').timestamp(),\n",
    "                    'pcl_id' : i,\n",
    "                    'bbox' : BBOX,\n",
    "                    'car_center' : car_center,\n",
    "                    'orig_json' : json_data}\n",
    "    with zf.ZipFile(osp.join(PCL_DIR,'%05d.zip' % (i,)), 'w', zf.ZIP_LZMA) as cf:\n",
    "        cf.writestr('metadata.json', json.dumps(tmp_meta))\n",
    "        tmpf = io.BytesIO()\n",
    "        np.save(tmpf, world)\n",
    "        cf.writestr('pcl.npy', tmpf.getvalue())"
   ]
  },
  {
   "cell_type": "code",
   "execution_count": 3,
   "metadata": {
    "button": false,
    "new_sheet": false,
    "run_control": {
     "read_only": false
    }
   },
   "outputs": [],
   "source": [
    "os.makedirs(PCL_DIR, exist_ok=True)\n",
    "with multiprocessing.Pool(THREADS) as pool:\n",
    "    pool.starmap(process, zip(range(len(DEPTHS)), DEPTHS, JSONS))"
   ]
  }
 ],
 "metadata": {
  "kernelspec": {
   "display_name": "Python 3",
   "language": "python",
   "name": "python3"
  },
  "language_info": {
   "codemirror_mode": {
    "name": "ipython",
    "version": 3
   },
   "file_extension": ".py",
   "mimetype": "text/x-python",
   "name": "python",
   "nbconvert_exporter": "python",
   "pygments_lexer": "ipython3",
   "version": "3.6.4"
  }
 },
 "nbformat": 4,
 "nbformat_minor": 1
}
